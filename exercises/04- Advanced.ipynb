{
 "cells": [
  {
   "cell_type": "markdown",
   "id": "1a802ec8",
   "metadata": {},
   "source": [
    "# 04 - Advanced\n",
    "A hypothetical London-based organisation services AirBnB listings, offering cleaning, decoration, photography, and marketing services. Their employees need to visit listings, and particular employees deliver a better service for listings with particular amenities.\n",
    "\n",
    "Consider how you might use the analysis peformed so far to explore how employees might be allocated to different listings to maximise efficiency of use of employee time and quality of service.\n",
    "\n",
    "### Task 01 - Is there a relatiosnhip between location- and amenity-based clusters\n",
    "If there is a strong relationship between location- and amenity-based clusters, then it might be possible to allocate employees efficiently.\n",
    "\n",
    "Explore [cluster evaluation methods](https://scikit-learn.org/stable/modules/clustering.html#clustering-performance-evaluation) and select one and try to compare the groups of listings arising from location- and amenity-based clustering, respectively.\n",
    "\n",
    "Do you believe their to be good overlap between the two different sets of clusters?"
   ]
  },
  {
   "cell_type": "code",
   "execution_count": null,
   "id": "9e9cc3cd",
   "metadata": {},
   "outputs": [],
   "source": [
    "\n"
   ]
  }
 ],
 "metadata": {
  "kernelspec": {
   "display_name": "Python 3 (ipykernel)",
   "language": "python",
   "name": "python3"
  },
  "language_info": {
   "codemirror_mode": {
    "name": "ipython",
    "version": 3
   },
   "file_extension": ".py",
   "mimetype": "text/x-python",
   "name": "python",
   "nbconvert_exporter": "python",
   "pygments_lexer": "ipython3",
   "version": "3.7.9"
  }
 },
 "nbformat": 4,
 "nbformat_minor": 5
}
