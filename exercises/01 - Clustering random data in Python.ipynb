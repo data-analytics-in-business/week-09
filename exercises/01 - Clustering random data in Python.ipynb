{
 "cells": [
  {
   "cell_type": "markdown",
   "id": "57e3833b",
   "metadata": {},
   "source": [
    "# 01 - Generating random data in Python\n",
    "This week we are going to learn how to perform cluster analysis in Python. But before that, let's generate some random data in Python, and learn some Python along the way! After that, we will perform cluster analysis on the random data to better understand how cluster analysis works and its limitations.\n",
    "\n",
    "### Why should I care about generating random data?\n",
    "Great question! We all want to perform analysis on *real* data to solve *real* problems, but when we perform analysis we always need to be aware of the limitations of the analysis method we are using and the risks of generalising or taking actions based on the results. This is where \"random\" or \"toy\" data can be useful. Firstly, it enables us to generate some data for which we have a good understanding of the process generating the data, and this enables us to evaluate an analysis method based on how well it models the underlying process. Secondly, we can easily tweak and change the toy data to become a dataset where the analysis method fails, and this enables us to easily compare the strengths and weaknesses of different analysis methods. Thirdly, it is just a good way to learn and to understand how an analysis method works for a very simple dataset and problem, and this provides us with a strong foundation of understanding to start exploring and developing models for more complex datasets and problems.\n",
    "<img src=\"../images/data.jpg\" width=400 height=400 />"
   ]
  },
  {
   "cell_type": "markdown",
   "id": "b9ff6590",
   "metadata": {},
   "source": [
    "## First, let's make some blobs!\n",
    "Using the code below we are going to create some *2-Dimensional* random data and visualise it in a *scatter plot*. \n",
    "\n",
    "We will do this in three steps:\n",
    "1. Import the required packages.\n",
    "2. Generate some data.\n",
    "3. Visualise the data.\n",
    "\n",
    "<img src=\"../images/simples.jpg\" width=200 height=200 />"
   ]
  },
  {
   "cell_type": "markdown",
   "id": "9f596991",
   "metadata": {},
   "source": [
    "### 1. Import the required packages\n",
    "Run the code below to import the required packages."
   ]
  },
  {
   "cell_type": "code",
   "execution_count": null,
   "id": "5e35e0bb",
   "metadata": {},
   "outputs": [],
   "source": [
    "# Import the 'make_blobs' function from the 'sklearn' package to generate some data\n",
    "from sklearn.datasets import make_blobs\n",
    "\n",
    "# Import the 'matplotlib.pyplot' package so we can visualise the data\n",
    "import matplotlib.pyplot as plt"
   ]
  },
  {
   "cell_type": "markdown",
   "id": "5924632c",
   "metadata": {},
   "source": [
    "### 2. Generate some data\n",
    "Run the code below to generate some data."
   ]
  },
  {
   "cell_type": "code",
   "execution_count": null,
   "id": "8ed62dd1",
   "metadata": {},
   "outputs": [],
   "source": [
    "# Specify how many data points (A.K.A. \"samples\" or \"examples\") we want in our data\n",
    "n_samples = 1500\n",
    "\n",
    "# Create some data X and some labels y\n",
    "X_data, y_labels = make_blobs(n_samples=n_samples)"
   ]
  },
  {
   "cell_type": "markdown",
   "id": "93d57a83",
   "metadata": {},
   "source": [
    "### 3. Visualise the data\n",
    "Run the code below to generate some data."
   ]
  },
  {
   "cell_type": "code",
   "execution_count": null,
   "id": "7ea31fd2",
   "metadata": {},
   "outputs": [],
   "source": [
    "# Create a 'figure'\n",
    "plt.figure(figsize=(6, 6))\n",
    "\n",
    "# Create a scatter plot\n",
    "plt.scatter(X_data[:, 0], X_data[:, 1], c=y_labels)\n",
    "\n",
    "# Give the scatter plot a title\n",
    "plt.title(\"Some random data...\")\n",
    "\n",
    "# Show the scatter plot\n",
    "plt.show()"
   ]
  },
  {
   "cell_type": "markdown",
   "id": "a2654654",
   "metadata": {},
   "source": [
    "### Side task 1 to advance your Python skills\n",
    "You can skip these tasks if you think you are a Python pro. If not, update the code below to:\n",
    "1. Change the figure title to be \"Some toy data...\"\n",
    "2. Change the figure size to be 8 x 8 (who doesn't like big images?)\n",
    "3. Change the scatter plot to show the same data, but with the axes swapped"
   ]
  },
  {
   "cell_type": "code",
   "execution_count": null,
   "id": "43873e52",
   "metadata": {},
   "outputs": [],
   "source": [
    "# Update this code...\n",
    "plt.figure(figsize=(6, 6))\n",
    "plt.scatter(X_data[:, 0], X_data[:, 1], c=y_labels)\n",
    "plt.title(\"Some random data...\")\n",
    "plt.show()"
   ]
  },
  {
   "cell_type": "markdown",
   "id": "b059633e",
   "metadata": {},
   "source": [
    "## Let's make a gallery of blobs!\n",
    "Let's now create a gallery of blobs so that we can see multiple sets of random data at the same time and consider how particular characteristics of the data might impact the results of cluster analysis.\n",
    "\n",
    "Run the code below to create a gallery of multiple random datasets."
   ]
  },
  {
   "cell_type": "code",
   "execution_count": null,
   "id": "af0ec30e",
   "metadata": {},
   "outputs": [],
   "source": [
    "plt.figure(figsize=(12, 12))\n",
    "\n",
    "n_samples = 1500\n",
    "gallery_width = 4\n",
    "gallery_height = 4\n",
    "\n",
    "for i in range(gallery_width*gallery_height):\n",
    "    # Generate some data\n",
    "    X_data, y_labels = make_blobs(n_samples=n_samples)\n",
    "    \n",
    "    # Visualise the data (in a sub-plot)\n",
    "    plt.subplot(gallery_height,gallery_width,i+1)\n",
    "    plt.scatter(X_data[:, 0], X_data[:, 1], c=y_labels)\n",
    "    plt.title(f\"Random dataset {i}\")\n",
    "    plt.xticks([])\n",
    "    plt.yticks([])\n",
    "\n",
    "plt.show()"
   ]
  },
  {
   "cell_type": "markdown",
   "id": "3f6698a8",
   "metadata": {},
   "source": [
    "### Questions 1 to help develop your understanding\n",
    "1. How do these datasets differ? What makes one dataset similar or different to another?\n",
    "2. Given a random datapoint without a colour/label: (2a) when would it be easy to guess the colour/label of the datapoint? (2b) when would it be difficult to guess the colour/label of the datapoint?\n",
    "\n",
    "### Side task 2 to advance your Python skills\n",
    "1. What do you think `plt.xticks` and `plt.yticks` do? Remove them and run the code again and see if you can tell then. Are they needed?\n",
    "2. How do you think `plt.subplot` works? If you think you know, then update the code to create a 3x3 or 5x5 gallery of random datasets?"
   ]
  },
  {
   "cell_type": "markdown",
   "id": "814fec6d",
   "metadata": {},
   "source": [
    "## Let perform some cluster analysis!\n",
    "OK, enough playing around, let's perform some serious cluster analysis :)\n",
    "\n",
    "To do this, we are going to use the `KMeans` [method](https://en.wikipedia.org/wiki/K-means_clustering) from the `sklearn.cluster` package (which we will need to import). The code below is the same as above, but we are going to use the `KMeans` method to try to predict the labels of the data. I.e., we will pretend to not have access to the labels of the data, like with most real datasets. We will then visualise the data using the *predicted* labels (`y_predicted`) instead of the original labels (`y_label`).\n",
    "\n",
    "Run the code below."
   ]
  },
  {
   "cell_type": "code",
   "execution_count": null,
   "id": "f5da4d2f",
   "metadata": {},
   "outputs": [],
   "source": [
    "# Import KMeans from sklearn.cluster\n",
    "from sklearn.cluster import KMeans\n",
    "\n",
    "plt.figure(figsize=(12, 12))\n",
    "\n",
    "n_samples = 1500\n",
    "gallery_width = 4\n",
    "gallery_height = 4\n",
    "\n",
    "for i in range(gallery_width*gallery_height):\n",
    "    # Generate some data\n",
    "    X_data, y_labels = make_blobs(n_samples=n_samples)\n",
    "    \n",
    "    # !!! PERFORM CLUSTER ANALYSIS !!!\n",
    "    y_predicted = KMeans(n_clusters=2).fit_predict(X_data)\n",
    "    \n",
    "    # Visualise the unlabelled data and the *predicted* labels\n",
    "    plt.subplot(gallery_height,gallery_width,i+1)\n",
    "    plt.scatter(X_data[:, 0], X_data[:, 1], c=y_predicted)\n",
    "    plt.title(f\"Random dataset {i}\")\n",
    "    plt.xticks([])\n",
    "    plt.yticks([])\n",
    "\n",
    "plt.show()"
   ]
  },
  {
   "cell_type": "markdown",
   "id": "f79abe06",
   "metadata": {},
   "source": [
    "### Question 2 to help develop your understanding\n",
    "1. How do the results look? \n",
    "2. What's wrong with the code above? How could it be improved?\n",
    "3. What do you think the parameter `n_clusters` represents?"
   ]
  },
  {
   "cell_type": "markdown",
   "id": "bf6701ad",
   "metadata": {},
   "source": [
    "### Task 3 to improve your analytics skills\n",
    "1. Set `n_clusters` in the code to a value you think makes most sense.\n",
    "2. For which datasets do you think `KMeans` is more/less successful? Explain why.\n",
    "3. Try increasing `n_clusters` beyond this number and explain what happens."
   ]
  }
 ],
 "metadata": {
  "kernelspec": {
   "display_name": "Python 3 (ipykernel)",
   "language": "python",
   "name": "python3"
  },
  "language_info": {
   "codemirror_mode": {
    "name": "ipython",
    "version": 3
   },
   "file_extension": ".py",
   "mimetype": "text/x-python",
   "name": "python",
   "nbconvert_exporter": "python",
   "pygments_lexer": "ipython3",
   "version": "3.7.9"
  }
 },
 "nbformat": 4,
 "nbformat_minor": 5
}
