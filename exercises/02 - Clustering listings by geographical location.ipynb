{
 "cells": [
  {
   "cell_type": "markdown",
   "id": "97cc7ec7",
   "metadata": {},
   "source": [
    "# 02 - Clustering listings by geographical location\n",
    "In this notebook, the goal is to find clusters of AirBnB listings which are close in geographical location.\n",
    "\n",
    "### Task 01 - Load the data\n",
    "In the code block below, first import the `pandas` package, then read `wk9_airbnb_listings.csv` in to create a `DataFrame` named `df_listings`. \n",
    "\n",
    "Finally, print the `columns` of `df_listings` and consider/discuss which columns you think could be used to group listings by geographical location."
   ]
  },
  {
   "cell_type": "code",
   "execution_count": null,
   "id": "08d33c44",
   "metadata": {},
   "outputs": [],
   "source": [
    "# (SOLUTION)\n"
   ]
  },
  {
   "cell_type": "markdown",
   "id": "95ad3f55",
   "metadata": {},
   "source": [
    "## Group listings by neighbourhood\n",
    "One simple way to group listings by geographical location would be to use the values in the `neighbourhood_cleansed` column of `df_listings`. Let's try to visualise what that would look like by positioning each listing in a scatter plot using its values in the `longitude` and `latitude` columns of `df_listings` and then using the values in `neighbourhood_cleansed` to colour each datapoint.\n",
    "\n",
    "### Task 02 - Visualise the geographical locations of listings\n",
    "Use what you learned in `01 - Clustering random data and clustering`, to create a scatter plot showing the datapoints in `X_data` coloured by the values in `y_labels`. To make things easier, we have provided the code for creating `X_data` and `y_labels`. Set the figure size to be `(18,6)` and title the figure \"AirBnB listings in London - coloured by neighbourhood\"."
   ]
  },
  {
   "cell_type": "code",
   "execution_count": null,
   "id": "6421bd12",
   "metadata": {},
   "outputs": [],
   "source": [
    "import matplotlib.pyplot as plt\n",
    "\n",
    "X_data = df_listings[['longitude','latitude']].values\n",
    "y_labels = df_listings['neighbourhood_cleansed'].astype('category').cat.codes\n",
    "\n",
    "# (SOLUTION)\n"
   ]
  },
  {
   "cell_type": "markdown",
   "id": "f95db117",
   "metadata": {},
   "source": [
    "## Group listings by longitude and latitude\n",
    "Now we are going to use `KMeans` to cluster the listings by the values in the `longitude` and `latitude` columns of `df_listings`. First we need to decide how many clusters to find. For simplicity, we are going to set the number of clusters to be equal to the number of unique neighbourhoods in the dataset.\n",
    "\n",
    "### Task 03 - Specify the number of clusters\n",
    "Create a variable named `n_clusters` whose value is equal to the number of unique neighbourhoods in `df_listings`. \n",
    "\n",
    "*Hint*: Use `df_listings['neighbourhood_cleansed'].unique()` to create an array containing the unique values found in `df_listings['neighbourhood_cleansed']`, then use the `len()` function to compute its length.\n",
    "\n",
    "*Note*: If you are stuck, then set `n_clusters` to be any number you think is a reasonable guess based on the \"AirBnB listings in London - coloured by neighbourhood\" plot we created above."
   ]
  },
  {
   "cell_type": "code",
   "execution_count": null,
   "id": "6782d6dc",
   "metadata": {},
   "outputs": [],
   "source": [
    "n_clusters = # (SOLUTION)"
   ]
  },
  {
   "cell_type": "markdown",
   "id": "8f9bcb19",
   "metadata": {},
   "source": [
    "### Task 04 - Use `KMeans`  to cluster by (lon,lat)\n",
    "Import `KMeans` from `sklearn.cluster`. Then use `KMeans` to fit a *k*-means model to the data `X_data` (with the number of clusters set to the value `n_clusters` you specified above), use the model to predict the cluster labels for each datapoint, and store these labels in an array named `y_predicted`.\n",
    "\n",
    "*Note*: you can fit and predict in one step using the `fit_predict` method of `KMeans`, and all the code you need is in the previous notebook."
   ]
  },
  {
   "cell_type": "code",
   "execution_count": null,
   "id": "57260b88",
   "metadata": {},
   "outputs": [],
   "source": [
    "# (SOLUTION)\n"
   ]
  },
  {
   "cell_type": "markdown",
   "id": "b7016965",
   "metadata": {},
   "source": [
    "Now create a scatter plot showing the datapoints in `X_data` coloured by the values in `y_predicted`. Set the figure size to be `(18,6)` and title the figure \"AirBnB listings in London - coloured by geographical cluster\"."
   ]
  },
  {
   "cell_type": "code",
   "execution_count": null,
   "id": "540b13f2",
   "metadata": {},
   "outputs": [],
   "source": [
    "# (SOLUTION)\n"
   ]
  },
  {
   "cell_type": "markdown",
   "id": "311708bb",
   "metadata": {},
   "source": [
    "### Task 05 - Use `AgglomerativeClustering`  to cluster by (lon,lat)\n",
    "As an alternative, we are going to quickly try using [Hierarchical clustering](https://en.wikipedia.org/wiki/Hierarchical_clustering) instead of *k*-means. Instead of specifying the number of clusters, we are going to specify a distance threshold above which, clusters will not be merged.\n",
    "\n",
    "Simply run the code below. Hierarchical clustering can be slow to run sometimes. If it takes too long, then move on."
   ]
  },
  {
   "cell_type": "code",
   "execution_count": null,
   "id": "2b353541",
   "metadata": {},
   "outputs": [],
   "source": [
    "from sklearn.cluster import AgglomerativeClustering\n",
    "y_predicted_AC = AgglomerativeClustering(n_clusters=None, distance_threshold=0.1).fit(X_data).labels_\n",
    "plt.figure(figsize=(18,6))\n",
    "plt.scatter(X_data[:, 0], X_data[:, 1], c=y_predicted_AC)\n",
    "plt.title(\"AirBnB listings in London - coloured by geographical AC cluster\")\n",
    "plt.show()"
   ]
  }
 ],
 "metadata": {
  "kernelspec": {
   "display_name": "Python 3 (ipykernel)",
   "language": "python",
   "name": "python3"
  },
  "language_info": {
   "codemirror_mode": {
    "name": "ipython",
    "version": 3
   },
   "file_extension": ".py",
   "mimetype": "text/x-python",
   "name": "python",
   "nbconvert_exporter": "python",
   "pygments_lexer": "ipython3",
   "version": "3.7.9"
  }
 },
 "nbformat": 4,
 "nbformat_minor": 5
}
