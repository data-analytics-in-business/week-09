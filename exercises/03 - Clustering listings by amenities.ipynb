{
 "cells": [
  {
   "cell_type": "markdown",
   "id": "09be7446",
   "metadata": {},
   "source": [
    "# 03 - Clustering listings by Amenities\n",
    "As well as geographical location, the file `wk9_airbnb_listings.csv` contains lots of other attributes we can use to group listings, including the [amenities](https://en.wikipedia.org/wiki/Amenity) on offer for each listing. For example, Wifi, TV, Kitchen, Board games, Free parking, etc.\n",
    "\n",
    "In this notebook, the goal is to find clusters of listings which offer similar amenities.\n",
    "\n",
    "### Task 01 - Load the data\n",
    "In the code block below, first import the `pandas` package, then read `wk9_airbnb_listings.csv` in to create a `DataFrame` named `df_listings`. Finally, print the `head` of the `id` and `amenities` columns."
   ]
  },
  {
   "cell_type": "code",
   "execution_count": null,
   "id": "7476c98c",
   "metadata": {},
   "outputs": [],
   "source": [
    "# (SOLUTION)\n"
   ]
  },
  {
   "cell_type": "markdown",
   "id": "23dfec4c",
   "metadata": {},
   "source": [
    "**Output check:** The output should look like this:\n",
    "<img src=\"../images/Result_Check_03_01.jpg\" width=400 height=400 />"
   ]
  },
  {
   "cell_type": "markdown",
   "id": "6c0e1a1b",
   "metadata": {},
   "source": [
    "## Data Pre-processing\n",
    "We need to process the data contained in the `amenities` column of `df_listings` before we can use it to cluster the listings. We do this in stages.\n",
    "\n",
    "### Task 01 - Convert strings to lists\n",
    "The values in the `amenities` column are in [string](https://www.w3schools.com/python/python_strings.asp) format and we need to convert them into [list](https://www.w3schools.com/python/python_lists.asp) format.\n",
    "\n",
    "To do this, we will import the `json` package and use the `apply` and `loads` methods to \"load\" the string value in each row into a list in a new column which we will name `amenities_list`.\n",
    "\n",
    "No code task here, just run the code below."
   ]
  },
  {
   "cell_type": "code",
   "execution_count": null,
   "id": "6e3a0a4f",
   "metadata": {},
   "outputs": [],
   "source": [
    "import json\n",
    "df_listings['amenities_list'] = df_listings['amenities'].apply(lambda s : json.loads(s))\n",
    "df_listings[['amenities','amenities_list']].head()"
   ]
  },
  {
   "cell_type": "markdown",
   "id": "8619b728",
   "metadata": {},
   "source": [
    "Do you see any differences between the values in `amenities` and the values in `amenities_list`. They are subtle, but very important."
   ]
  },
  {
   "cell_type": "markdown",
   "id": "e755c031",
   "metadata": {},
   "source": [
    "### Task 02 - Map lists to binary indicators\n",
    "We now need to map the lists in `amenities_list` to a format which can can be used for cluster analysis, similar to how `get_dummies` was used in the \"Example of Kmeans Clustering\" in the first notebook, but `get_dummies` can be slow for large datasets. Instead we are going to use the awesome `MultiLabelBinarizer` from the `sklearn.preprocessing` package.\n",
    "\n",
    "Specifically, we are going to use an instance of `MultiLabelBinarizer` to fit and transform the values in `df_listings['amenities_list']` and create an arrary of binary indicators named `amenities_binary`.\n",
    "\n",
    "This may be all new to you, so please do just run the code below."
   ]
  },
  {
   "cell_type": "code",
   "execution_count": null,
   "id": "379f2670",
   "metadata": {},
   "outputs": [],
   "source": [
    "from sklearn.preprocessing import MultiLabelBinarizer\n",
    "mlb = MultiLabelBinarizer()\n",
    "amenities_binary = mlb.fit_transform(df_listings['amenities_list'])\n",
    "amenities_binary"
   ]
  },
  {
   "cell_type": "markdown",
   "id": "829ddab8",
   "metadata": {},
   "source": [
    "Given the above array is just an array of zeros and ones, it is difficult for us to know which listing/amenity each row/column corresponds to. To solve this, we will create a `DataFrame` which will contain everything we need.\n",
    "\n",
    "Please run the code below."
   ]
  },
  {
   "cell_type": "code",
   "execution_count": null,
   "id": "b9278144",
   "metadata": {},
   "outputs": [],
   "source": [
    "X_data = pd.DataFrame(amenities_binary ,columns=mlb.classes_, index=df_listings['id'])\n",
    "X_data.head()"
   ]
  },
  {
   "cell_type": "markdown",
   "id": "66b79f07",
   "metadata": {},
   "source": [
    "### Task 03 - Check how many times each amenity appears in the data\n",
    "Some of the amenities shown above look very niche, so let's check how many times they occur.\n",
    "\n",
    "Run the code below to quickly see how often each amenity appears in a listing. Why can `sum` be used to do this?"
   ]
  },
  {
   "cell_type": "code",
   "execution_count": null,
   "id": "028e2b11",
   "metadata": {},
   "outputs": [],
   "source": [
    "X_data.sum()"
   ]
  },
  {
   "cell_type": "markdown",
   "id": "b1d85249",
   "metadata": {},
   "source": [
    "### Task 04 - Filter to the most common amenities\n",
    "Given there are many amenities which appear in only one (or a few) listing(s) we are going to filter out the amenities that appear less than or equal to the number of times than the mean average.\n",
    "\n",
    "Due to the beauty of `pandas` we can do this in a very \"Pythonic\" way.\n",
    "\n",
    "Please run the code below."
   ]
  },
  {
   "cell_type": "code",
   "execution_count": null,
   "id": "d5a882fa",
   "metadata": {},
   "outputs": [],
   "source": [
    "X_final = X_data[X_data.columns[X_data.sum()>X_data.sum().mean()]]\n",
    "X_final.head()"
   ]
  },
  {
   "cell_type": "markdown",
   "id": "7d5e69b1",
   "metadata": {},
   "source": [
    "## Group listings by amenities\n",
    "Now we have prepared our data (`X_final`) we can perform cluster analysis to group listings by their amenities.\n",
    "\n",
    "For simplicity, we are going to manually set the number of clusters to *5*.\n",
    "\n",
    "### Task 05 - Run the code below"
   ]
  },
  {
   "cell_type": "code",
   "execution_count": null,
   "id": "525201c9",
   "metadata": {},
   "outputs": [],
   "source": [
    "pd.options.mode.chained_assignment = None # Ignore this\n",
    "import numpy as np\n",
    "import matplotlib.pyplot as plt\n",
    "from sklearn.cluster import KMeans\n",
    "\n",
    "X_final.loc[:,'cluster'] = KMeans(n_clusters=5).fit_predict(X_final)\n",
    "pivot_cluster = X_final.pivot_table(index=['cluster'], aggfunc='sum')\n",
    "\n",
    "category_colors = plt.get_cmap('hsv')(np.linspace(0, 1, len(pivot_cluster.columns)))\n",
    "\n",
    "plt.figure(figsize=(20, 12))\n",
    "for idx, row in pivot_cluster.iterrows():\n",
    "    \n",
    "    plt.subplot(1,10,idx+1)\n",
    "    plt.barh(row.index,row.values, color=category_colors)\n",
    "    if(idx>0):\n",
    "        plt.yticks([])\n",
    "    plt.xlim(0,8000)\n",
    "    plt.title(f'Cluster {idx}')\n"
   ]
  },
  {
   "cell_type": "markdown",
   "id": "1b6b4065",
   "metadata": {},
   "source": [
    "### Task 06 - Relfect on results\n",
    "* Which amenities appear for almost all listings?\n",
    "* Do these clusters makes sense to you?\n",
    "* Do you thik there were limitations in the cluster analysis?\n",
    "* How do you think flitering to the most common amenities might impact the usefulness of the results?"
   ]
  }
 ],
 "metadata": {
  "kernelspec": {
   "display_name": "Python 3 (ipykernel)",
   "language": "python",
   "name": "python3"
  },
  "language_info": {
   "codemirror_mode": {
    "name": "ipython",
    "version": 3
   },
   "file_extension": ".py",
   "mimetype": "text/x-python",
   "name": "python",
   "nbconvert_exporter": "python",
   "pygments_lexer": "ipython3",
   "version": "3.7.9"
  }
 },
 "nbformat": 4,
 "nbformat_minor": 5
}
